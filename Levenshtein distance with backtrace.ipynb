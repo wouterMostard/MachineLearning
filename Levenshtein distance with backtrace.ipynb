{
 "cells": [
  {
   "cell_type": "code",
   "execution_count": 6,
   "metadata": {},
   "outputs": [],
   "source": [
    "import numpy as np\n",
    "import seaborn as sns\n",
    "import matplotlib.pyplot as plt"
   ]
  },
  {
   "cell_type": "code",
   "execution_count": 85,
   "metadata": {},
   "outputs": [],
   "source": [
    "def calculate_edit_distance_matrix(word1, word2):\n",
    "    word1 = \"#\" + word1\n",
    "    word2 = \"#\" + word2\n",
    "\n",
    "    matrix = np.zeros((len(word1), len(word2))).astype(int)\n",
    "\n",
    "    matrix[:, 0] = np.arange(len(word1))\n",
    "    matrix[0, :] = np.arange(len(word2))\n",
    "\n",
    "    for i in range(1, len(word1)):\n",
    "        for j in range(1, len(word2)):\n",
    "            if word1[i] == word2[j]:\n",
    "                matrix[i, j] = matrix[i - 1, j - 1]\n",
    "\n",
    "            else:\n",
    "                matrix[i, j] = min(matrix[i-1, j-1] + 2, matrix[i-1, j] + 1, matrix[i, j-1] + 1)\n",
    "\n",
    "    return matrix\n",
    "\n",
    "def get_next_action(loc, word1, word2):\n",
    "    i, j = loc\n",
    "    action_idx = np.argmin([matrix[i - 1, j], matrix[i-1, j-1], matrix[i, j - 1]])\n",
    "    \n",
    "    if action_idx == 0:\n",
    "        action = f\"delete {word1[i]}\"\n",
    "        i -= 1\n",
    "    elif action_idx == 1:\n",
    "        if matrix[i-1, j-1] == matrix[i, j]:\n",
    "            action = f\"same letter so continue\"\n",
    "        else:\n",
    "            action = f\"replace {word1[i]} with {word2[j ]}\"\n",
    "            \n",
    "        i -= 1\n",
    "        j -= 1\n",
    "    else:\n",
    "        action = f\"Insert {word2[j]}\"\n",
    "        j -= 1 \n",
    "        \n",
    "    return (i, j), action\n",
    "\n",
    "def retrieve_backtrace(word1, word2):\n",
    "    word1 = \"#\" + word1\n",
    "    word2 = \"#\" + word2\n",
    "    \n",
    "    loc = (len(word1) - 1, len(word2) - 1)\n",
    "    actions = []\n",
    "\n",
    "    while loc[0] != 0 or loc[1] != 0:\n",
    "        loc, action = get_next_action(loc, word1, word2)\n",
    "        actions.append(action)\n",
    "\n",
    "    if i != 0 or j != 0:\n",
    "        raise ValueError('Backtrace did not go back to the origin')\n",
    "    return actions[::-1]"
   ]
  },
  {
   "cell_type": "code",
   "execution_count": 86,
   "metadata": {},
   "outputs": [
    {
     "data": {
      "image/png": "[encoded data removed]",
      "text/plain": [
       "<Figure size 432x288 with 1 Axes>"
      ]
     },
     "metadata": {
      "needs_background": "light"
     },
     "output_type": "display_data"
    },
    {
     "data": {
      "text/plain": [
       "['replace k with s',\n",
       " 'same letter so continue',\n",
       " 'same letter so continue',\n",
       " 'same letter so continue',\n",
       " 'replace e with i',\n",
       " 'same letter so continue',\n",
       " 'Insert g']"
      ]
     },
     "execution_count": 86,
     "metadata": {},
     "output_type": "execute_result"
    }
   ],
   "source": [
    "word1 = 'kitten'\n",
    "word2 = 'sitting'\n",
    "\n",
    "matrix = calculate_edit_distance_matrix(word1, word2)\n",
    "\n",
    "ax = sns.heatmap(matrix, annot=True, cbar=False)\n",
    "ax.xaxis.set_ticks_position('top')\n",
    "ax.set_yticklabels('#' + word1, rotation=0)\n",
    "ax.set_xticklabels('#' + word2)\n",
    "plt.show()\n",
    "\n",
    "retrieve_backtrace(word1, word2)"
   ]
  },
  {
   "cell_type": "code",
   "execution_count": null,
   "metadata": {},
   "outputs": [],
   "source": []
  }
 ],
 "metadata": {
  "kernelspec": {
   "display_name": "Python 3",
   "language": "python",
   "name": "python3"
  },
  "language_info": {
   "codemirror_mode": {
    "name": "ipython",
    "version": 3
   },
   "file_extension": ".py",
   "mimetype": "text/x-python",
   "name": "python",
   "nbconvert_exporter": "python",
   "pygments_lexer": "ipython3",
   "version": "3.7.3"
  }
 },
 "nbformat": 4,
 "nbformat_minor": 2
}
